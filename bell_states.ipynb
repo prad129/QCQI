{
 "cells": [
  {
   "cell_type": "markdown",
   "metadata": {},
   "source": [
    "# Bell States"
   ]
  },
  {
   "cell_type": "markdown",
   "metadata": {},
   "source": [
    "The Bell states are named after physicist John Stewart Bell. Bell is most known for Bell's Theorem (subject for a future notebook?) and clarifying the concept of entanglement."
   ]
  },
  {
   "cell_type": "markdown",
   "metadata": {},
   "source": [
    "The Bell states are the following four states of a two-qubit system:"
   ]
  },
  {
   "cell_type": "markdown",
   "metadata": {},
   "source": [
    "$$\n",
    "    \\ket{\\Phi^+}= \\frac{\\ket{00}+\\ket{11}}{\\sqrt{2}} \\\\\n",
    "    \\ket{\\Phi^-}= \\frac{\\ket{00}-\\ket{11}}{\\sqrt{2}} \\\\\n",
    "    \\ket{\\Psi^+}= \\frac{\\ket{01}+\\ket{10}}{\\sqrt{2}} \\\\\n",
    "    \\ket{\\Psi^-}= \\frac{\\ket{01}+\\ket{10}}{\\sqrt{2}}\n",
    "$$\n"
   ]
  },
  {
   "cell_type": "markdown",
   "metadata": {},
   "source": [
    "All of these are maximally entangled."
   ]
  },
  {
   "cell_type": "markdown",
   "metadata": {},
   "source": [
    "## How to create Bell states"
   ]
  },
  {
   "cell_type": "markdown",
   "metadata": {},
   "source": [
    "We create our first Bell state, $\\ket{\\Phi^+}$, like so:"
   ]
  },
  {
   "cell_type": "code",
   "execution_count": 63,
   "metadata": {},
   "outputs": [
    {
     "data": {
      "image/png": "[encoded data removed]",
      "text/plain": [
       "<Figure size 287.294x200.667 with 1 Axes>"
      ]
     },
     "execution_count": 63,
     "metadata": {},
     "output_type": "execute_result"
    }
   ],
   "source": [
    "\n",
    "from qiskit import QuantumCircuit\n",
    "import matplotlib.pyplot as plt\n",
    "\n",
    "\n",
    "phi_plus = QuantumCircuit(2) # Start with |00>\n",
    "\n",
    "phi_plus.h(0)  # Apply Hadamard gate to qubit 0\n",
    "\n",
    "phi_plus.cx(0, 1)  # Apply CNOT gate with qubit 0 as control and qubit 1 as target\n",
    "\n",
    "phi_plus.draw(output='mpl')"
   ]
  },
  {
   "cell_type": "markdown",
   "metadata": {},
   "source": [
    "We begin with\n",
    "\n",
    "$$\n",
    "    \\ket{00} \n",
    "$$"
   ]
  },
  {
   "cell_type": "markdown",
   "metadata": {},
   "source": [
    "Applying the Hadamard gate to the first qubit gives us\n",
    "$$\n",
    " H_1\\ket{00} = \\ket{+0} = \\frac{1}{\\sqrt{2}}(\\ket{0}+\\ket{1}) \\otimes \\ket{0} = \\frac{1}{\\sqrt{2}}(\\ket{00}+\\ket{10})\n",
    "$$"
   ]
  },
  {
   "cell_type": "markdown",
   "metadata": {},
   "source": [
    "Finally, applying the CNOT gate with the first qubit as the control and the second qubit as the target gives\n",
    "$$\n",
    "    \\frac{1}{\\sqrt{2}}(\\ket{00}+\\ket{10}) \\rightarrow \\frac{1}{\\sqrt{2}}(\\ket{00}+\\ket{11})\n",
    "$$"
   ]
  },
  {
   "cell_type": "markdown",
   "metadata": {},
   "source": [
    "The other three Bell states can be applied by applying single qubit gates to the appropriate qubit. "
   ]
  },
  {
   "cell_type": "markdown",
   "metadata": {},
   "source": [
    "To make $\\ket{\\Phi^-}$, we apply a Z gate onto the first qubit of $\\ket{\\Phi^+}$"
   ]
  },
  {
   "cell_type": "markdown",
   "metadata": {},
   "source": [
    "$$\n",
    "    \\frac{1}{\\sqrt{2}}Z_1(\\ket{00}+\\ket{11}) \\rightarrow \\frac{1}{\\sqrt{2}}(\\ket{00}-\\ket{11})\n",
    "$$"
   ]
  },
  {
   "cell_type": "code",
   "execution_count": 64,
   "metadata": {},
   "outputs": [
    {
     "data": {
      "image/png": "[encoded data removed]",
      "text/plain": [
       "<Figure size 370.906x200.667 with 1 Axes>"
      ]
     },
     "execution_count": 64,
     "metadata": {},
     "output_type": "execute_result"
    }
   ],
   "source": [
    "phi_plus.z(0)\n",
    "phi_plus.draw(output='mpl')"
   ]
  },
  {
   "cell_type": "markdown",
   "metadata": {},
   "source": [
    "To make $\\ket{\\Psi^+}$, we apply an X gate onto the second qubit of $\\ket{\\Phi^+}$"
   ]
  },
  {
   "cell_type": "markdown",
   "metadata": {},
   "source": [
    "$$\n",
    "    \\frac{1}{\\sqrt{2}}X_2(\\ket{00}+\\ket{11}) \\rightarrow \\frac{1}{\\sqrt{2}}(\\ket{01}+\\ket{10})\n",
    "$$"
   ]
  },
  {
   "cell_type": "code",
   "execution_count": 65,
   "metadata": {},
   "outputs": [
    {
     "data": {
      "image/png": "[encoded data removed]",
      "text/plain": [
       "<Figure size 370.906x200.667 with 1 Axes>"
      ]
     },
     "execution_count": 65,
     "metadata": {},
     "output_type": "execute_result"
    }
   ],
   "source": [
    "phi_plus.data.pop()\n",
    "phi_plus.x(1)\n",
    "phi_plus.draw(output='mpl')"
   ]
  },
  {
   "cell_type": "markdown",
   "metadata": {},
   "source": [
    "To make $\\ket{\\Psi^-}$, we apply an X gate onto the second qubit of $\\ket{\\Phi^-}$"
   ]
  },
  {
   "cell_type": "markdown",
   "metadata": {},
   "source": [
    "$$\n",
    "    \\frac{1}{\\sqrt{2}}X_2(\\ket{00}-\\ket{11}) \\rightarrow \\frac{1}{\\sqrt{2}}(\\ket{01}-\\ket{10})\n",
    "$$"
   ]
  },
  {
   "cell_type": "code",
   "execution_count": 66,
   "metadata": {},
   "outputs": [
    {
     "data": {
      "image/png": "[encoded data removed]",
      "text/plain": [
       "<Figure size 370.906x200.667 with 1 Axes>"
      ]
     },
     "execution_count": 66,
     "metadata": {},
     "output_type": "execute_result"
    }
   ],
   "source": [
    "phi_plus.z(0)\n",
    "phi_plus.draw(output='mpl')\n"
   ]
  },
  {
   "cell_type": "markdown",
   "metadata": {},
   "source": [
    "# Significance"
   ]
  },
  {
   "cell_type": "markdown",
   "metadata": {},
   "source": [
    "Bell states are important because they are the simplest examples of maximally entangled states. In these states, the two qubits are strongly correlated, meaning that measuring one qubit immediately determines the state of the other, regardless of the physical distance between them. This property is called quantum entanglement."
   ]
  },
  {
   "cell_type": "markdown",
   "metadata": {},
   "source": [
    "# Applications"
   ]
  },
  {
   "cell_type": "markdown",
   "metadata": {},
   "source": [
    "* Quantum Information    \n",
    "    * Quantum Teleportation\n",
    "        * Bell states enable the transfer of a qubit from one location to another without physically transmitting the qubit itself.\n",
    "    * Quantum Key Distribution\n",
    "        * Protocols like BBM92 use Bell states to establish secure cryptographic keys based on entanglement.\n",
    "* Quantum Computing\n",
    "    * Entanglement, as demonstrated by Bell states, is a critical resource for many quantum algorithms\n",
    "        * Shor’s algorithm, Grover’s search algorithm, etc.\n",
    "    * Quantum Error Correction \n",
    "        * Bell states are used to detect and correct errors in quantum systems by encoding logical qubits in entangled states.\n",
    "* Quantum Networks\n",
    "    * Entanglement Distribution \n",
    "        * Bell states serve as the foundation for distributing entanglement across quantum networks, enabling long-distance quantum communication and quantum internet."
   ]
  }
 ],
 "metadata": {
  "kernelspec": {
   "display_name": "qiskit_env",
   "language": "python",
   "name": "python3"
  },
  "language_info": {
   "codemirror_mode": {
    "name": "ipython",
    "version": 3
   },
   "file_extension": ".py",
   "mimetype": "text/x-python",
   "name": "python",
   "nbconvert_exporter": "python",
   "pygments_lexer": "ipython3",
   "version": "3.9.21"
  }
 },
 "nbformat": 4,
 "nbformat_minor": 2
}
